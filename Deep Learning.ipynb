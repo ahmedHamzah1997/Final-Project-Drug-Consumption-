{
 "cells": [
  {
   "cell_type": "markdown",
   "metadata": {
    "cell_id": "00001-36458139-c870-4498-8e89-6b14e4a4e584",
    "deepnote_cell_type": "markdown",
    "tags": []
   },
   "source": [
    "# Deep Learning "
   ]
  },
  {
   "cell_type": "code",
   "execution_count": 1,
   "metadata": {
    "cell_id": "00040-dcef341e-a1fa-4bd1-8db0-7c4917524871",
    "deepnote_cell_type": "code",
    "deepnote_to_be_reexecuted": false,
    "execution_millis": 0,
    "execution_start": 1610186575324,
    "source_hash": "204acc40",
    "tags": []
   },
   "outputs": [],
   "source": [
    "import tensorflow as tf\n",
    "from tensorflow              import keras\n",
    "from tensorflow.keras.models import Sequential\n",
    "from tensorflow.keras.layers import Dense, Activation, Flatten, Input"
   ]
  },
  {
   "cell_type": "code",
   "execution_count": 2,
   "metadata": {
    "cell_id": "00041-971d77cb-e97d-4638-89fe-2d679a82e3b5",
    "deepnote_cell_type": "code",
    "deepnote_to_be_reexecuted": false,
    "execution_millis": 711,
    "execution_start": 1610186575820,
    "source_hash": "9f192fd7",
    "tags": []
   },
   "outputs": [],
   "source": [
    "import pandas as pd\n",
    "import sklearn\n",
    "from sklearn.model_selection import train_test_split\n",
    "DC = pd.read_csv(\"https://archive.ics.uci.edu/ml/machine-learning-databases/00373/drug_consumption.data\", header = None)\n",
    "columns = ['ID', 'AGE', 'GENDER', 'EDUCATION_LEVEL', 'COUNTRY', 'ETHNICITY', 'NSCORE_VALUE', 'ESCORE_VALUE', 'OSCORE_VALUE', 'ASCORE_VALUE', \n",
    "        'CSCORE_VALUE', 'IMPULSIVENESS', 'SENSATION_SEEING', 'ALCOHOL_CONSUMPTION', 'AMPHET_CONSUMPTION', 'AMYL_CONSUMPTION', 'BENZOS_CONSUMPTION', \n",
    "        'CAFFEINE_CONSUMPTION', 'CANNABIS_CONSUMPTION', 'CHOCOLATE_CONSUMPTION', 'COKE_CONSUMPTION', 'CRACK_CONSUMPTION', 'ECSTASY_CONSUMPTION', \n",
    "        'HEROIN_CONSUMPTION', 'KETAMINE_CONSUMPTION', 'LEGAL_HIGHS_CONSUMPTION', 'LSD_CONSUMPTION', 'METH_CONSUMPTION', 'MAGIC_MUSHROOMS_CONSUMPTION', \n",
    "        'NICOTINE_CONSUMPTION', 'SEMER_CONSUMPTION', 'VSA_CONSUMPTION']\n",
    "DC.columns = columns"
   ]
  },
  {
   "cell_type": "code",
   "execution_count": 3,
   "metadata": {
    "cell_id": "00041-0a0ace3d-c31d-4738-a07f-649e9c994253",
    "deepnote_cell_type": "code",
    "deepnote_to_be_reexecuted": false,
    "execution_millis": 66,
    "execution_start": 1610186576535,
    "source_hash": "4dc4c0e9",
    "tags": []
   },
   "outputs": [
    {
     "name": "stdout",
     "output_type": "stream",
     "text": [
      "17      1\n",
      "27      1\n",
      "64      1\n",
      "100     1\n",
      "104     1\n",
      "       ..\n",
      "1873    1\n",
      "1876    1\n",
      "1879    1\n",
      "1882    1\n",
      "1883    1\n",
      "Name: CANNABIS_CONSUMPTION, Length: 463, dtype: int64\n"
     ]
    }
   ],
   "source": [
    "F = ['AGE', 'GENDER', 'EDUCATION_LEVEL', 'COUNTRY', 'ETHNICITY', \n",
    "    'NSCORE_VALUE', 'ESCORE_VALUE', 'OSCORE_VALUE', 'ASCORE_VALUE', 'CSCORE_VALUE', 'IMPULSIVENESS', 'SENSATION_SEEING']\n",
    "\n",
    "P = ['ALCOHOL_CONSUMPTION', 'AMPHET_CONSUMPTION', 'AMYL_CONSUMPTION', 'BENZOS_CONSUMPTION', \n",
    "        'CAFFEINE_CONSUMPTION', 'CANNABIS_CONSUMPTION', 'CHOCOLATE_CONSUMPTION', 'COKE_CONSUMPTION', 'CRACK_CONSUMPTION', 'ECSTASY_CONSUMPTION', \n",
    "        'HEROIN_CONSUMPTION', 'KETAMINE_CONSUMPTION', 'LEGAL_HIGHS_CONSUMPTION', 'LSD_CONSUMPTION', 'METH_CONSUMPTION', 'MAGIC_MUSHROOMS_CONSUMPTION', \n",
    "        'NICOTINE_CONSUMPTION', 'SEMER_CONSUMPTION', 'VSA_CONSUMPTION']\n",
    "\n",
    "for k in P:\n",
    "    DC[k] = DC[k].apply(lambda x : 1 if x == \"CL6\" else 0)\n",
    "\n",
    "print(DC[(DC['CANNABIS_CONSUMPTION'] == 1)]['CANNABIS_CONSUMPTION'])\n",
    "\n",
    "\n",
    "X = DC[F].values\n",
    "Y = DC[P].values\n",
    "\n",
    "X_train, X_test, y_train, y_test = train_test_split(X, Y, test_size=0.20)"
   ]
  },
  {
   "cell_type": "code",
   "execution_count": 4,
   "metadata": {
    "cell_id": "00042-4a660197-05e2-4fae-be9a-93da34c05c02",
    "deepnote_cell_type": "code",
    "deepnote_to_be_reexecuted": false,
    "execution_millis": 45,
    "execution_start": 1610187049428,
    "source_hash": "a964460f",
    "tags": []
   },
   "outputs": [],
   "source": [
    "model = keras.Sequential([\n",
    "        keras.layers.Dense(10, input_dim = 12, activation = 'relu'),\n",
    "        keras.layers.Dense(10, activation = 'relu'),\n",
    "        keras.layers.Dense(5, input_dim = 12, activation = 'relu'),\n",
    "        keras.layers.Dense(5, activation = 'relu'),\n",
    "        keras.layers.Dense(3, input_dim = 12, activation = 'relu'),\n",
    "        keras.layers.Dense(3, activation = 'relu'),\n",
    "        keras.layers.Dense(1, activation = 'sigmoid')\n",
    "        ])"
   ]
  },
  {
   "cell_type": "code",
   "execution_count": 5,
   "metadata": {
    "cell_id": "00044-160be445-40f6-4e45-9b37-108625fccf8b",
    "deepnote_cell_type": "code",
    "deepnote_to_be_reexecuted": false,
    "execution_millis": 10,
    "execution_start": 1610187050291,
    "source_hash": "67d3741f",
    "tags": []
   },
   "outputs": [],
   "source": [
    "model.compile(loss='binary_crossentropy',\n",
    "              optimizer = 'adam', \n",
    "              metrics=['accuracy'])\n"
   ]
  },
  {
   "cell_type": "code",
   "execution_count": 6,
   "metadata": {
    "cell_id": "00045-e023ff58-0faf-4ef5-b53f-d660a4cd54fe",
    "deepnote_cell_type": "code",
    "deepnote_to_be_reexecuted": false,
    "execution_millis": 120708,
    "execution_start": 1610187181773,
    "is_code_hidden": false,
    "output_cleared": false,
    "source_hash": "88c9004a",
    "tags": []
   },
   "outputs": [
    {
     "name": "stdout",
     "output_type": "stream",
     "text": [
      "Epoch 1/100\n",
      "151/151 [==============================] - 0s 570us/step - loss: 0.3162 - accuracy: 0.9516\n",
      "Epoch 2/100\n",
      "151/151 [==============================] - 0s 583us/step - loss: 0.1999 - accuracy: 0.9516\n",
      "Epoch 3/100\n",
      "151/151 [==============================] - 0s 594us/step - loss: 0.1885 - accuracy: 0.9516\n",
      "Epoch 4/100\n",
      "151/151 [==============================] - 0s 590us/step - loss: 0.1787 - accuracy: 0.9516\n",
      "Epoch 5/100\n",
      "151/151 [==============================] - 0s 596us/step - loss: 0.1731 - accuracy: 0.9516\n",
      "Epoch 6/100\n",
      "151/151 [==============================] - 0s 590us/step - loss: 0.1690 - accuracy: 0.9516\n",
      "Epoch 7/100\n",
      "151/151 [==============================] - 0s 583us/step - loss: 0.1642 - accuracy: 0.9516\n",
      "Epoch 8/100\n",
      "151/151 [==============================] - 0s 588us/step - loss: 0.1620 - accuracy: 0.9516\n",
      "Epoch 9/100\n",
      "151/151 [==============================] - 0s 570us/step - loss: 0.1596 - accuracy: 0.9516\n",
      "Epoch 10/100\n",
      "151/151 [==============================] - 0s 563us/step - loss: 0.1574 - accuracy: 0.9516\n",
      "Epoch 11/100\n",
      "151/151 [==============================] - 0s 556us/step - loss: 0.1572 - accuracy: 0.9516\n",
      "Epoch 12/100\n",
      "151/151 [==============================] - 0s 556us/step - loss: 0.1547 - accuracy: 0.9516\n",
      "Epoch 13/100\n",
      "151/151 [==============================] - 0s 556us/step - loss: 0.1536 - accuracy: 0.9516\n",
      "Epoch 14/100\n",
      "151/151 [==============================] - 0s 583us/step - loss: 0.1514 - accuracy: 0.9516\n",
      "Epoch 15/100\n",
      "151/151 [==============================] - 0s 590us/step - loss: 0.1503 - accuracy: 0.9516\n",
      "Epoch 16/100\n",
      "151/151 [==============================] - 0s 590us/step - loss: 0.1484 - accuracy: 0.9516\n",
      "Epoch 17/100\n",
      "151/151 [==============================] - 0s 570us/step - loss: 0.1485 - accuracy: 0.9516\n",
      "Epoch 18/100\n",
      "151/151 [==============================] - 0s 576us/step - loss: 0.1471 - accuracy: 0.9516\n",
      "Epoch 19/100\n",
      "151/151 [==============================] - 0s 596us/step - loss: 0.1450 - accuracy: 0.9516\n",
      "Epoch 20/100\n",
      "151/151 [==============================] - 0s 596us/step - loss: 0.1456 - accuracy: 0.9516\n",
      "Epoch 21/100\n",
      "151/151 [==============================] - 0s 598us/step - loss: 0.1442 - accuracy: 0.9516\n",
      "Epoch 22/100\n",
      "151/151 [==============================] - 0s 603us/step - loss: 0.1424 - accuracy: 0.9516\n",
      "Epoch 23/100\n",
      "151/151 [==============================] - 0s 603us/step - loss: 0.1409 - accuracy: 0.9516\n",
      "Epoch 24/100\n",
      "151/151 [==============================] - 0s 609us/step - loss: 0.1413 - accuracy: 0.9516\n",
      "Epoch 25/100\n",
      "151/151 [==============================] - 0s 563us/step - loss: 0.1395 - accuracy: 0.9516\n",
      "Epoch 26/100\n",
      "151/151 [==============================] - 0s 570us/step - loss: 0.1385 - accuracy: 0.9516\n",
      "Epoch 27/100\n",
      "151/151 [==============================] - 0s 563us/step - loss: 0.1375 - accuracy: 0.9516\n",
      "Epoch 28/100\n",
      "151/151 [==============================] - 0s 556us/step - loss: 0.1363 - accuracy: 0.9516\n",
      "Epoch 29/100\n",
      "151/151 [==============================] - 0s 570us/step - loss: 0.1359 - accuracy: 0.9516\n",
      "Epoch 30/100\n",
      "151/151 [==============================] - 0s 561us/step - loss: 0.1336 - accuracy: 0.9516\n",
      "Epoch 31/100\n",
      "151/151 [==============================] - 0s 563us/step - loss: 0.1341 - accuracy: 0.9516\n",
      "Epoch 32/100\n",
      "151/151 [==============================] - 0s 556us/step - loss: 0.1317 - accuracy: 0.9516\n",
      "Epoch 33/100\n",
      "151/151 [==============================] - 0s 570us/step - loss: 0.1327 - accuracy: 0.9516\n",
      "Epoch 34/100\n",
      "151/151 [==============================] - 0s 570us/step - loss: 0.1304 - accuracy: 0.9509\n",
      "Epoch 35/100\n",
      "151/151 [==============================] - 0s 556us/step - loss: 0.1295 - accuracy: 0.9523\n",
      "Epoch 36/100\n",
      "151/151 [==============================] - 0s 583us/step - loss: 0.1299 - accuracy: 0.9529\n",
      "Epoch 37/100\n",
      "151/151 [==============================] - 0s 563us/step - loss: 0.1276 - accuracy: 0.9523\n",
      "Epoch 38/100\n",
      "151/151 [==============================] - 0s 563us/step - loss: 0.1247 - accuracy: 0.9516\n",
      "Epoch 39/100\n",
      "151/151 [==============================] - 0s 563us/step - loss: 0.1279 - accuracy: 0.9529\n",
      "Epoch 40/100\n",
      "151/151 [==============================] - 0s 563us/step - loss: 0.1244 - accuracy: 0.9523\n",
      "Epoch 41/100\n",
      "151/151 [==============================] - 0s 556us/step - loss: 0.1251 - accuracy: 0.9536\n",
      "Epoch 42/100\n",
      "151/151 [==============================] - 0s 590us/step - loss: 0.1246 - accuracy: 0.9542\n",
      "Epoch 43/100\n",
      "151/151 [==============================] - 0s 556us/step - loss: 0.1226 - accuracy: 0.9529\n",
      "Epoch 44/100\n",
      "151/151 [==============================] - 0s 556us/step - loss: 0.1203 - accuracy: 0.9542\n",
      "Epoch 45/100\n",
      "151/151 [==============================] - 0s 563us/step - loss: 0.1192 - accuracy: 0.9549\n",
      "Epoch 46/100\n",
      "151/151 [==============================] - 0s 563us/step - loss: 0.1194 - accuracy: 0.9549\n",
      "Epoch 47/100\n",
      "151/151 [==============================] - 0s 563us/step - loss: 0.1174 - accuracy: 0.9536\n",
      "Epoch 48/100\n",
      "151/151 [==============================] - 0s 563us/step - loss: 0.1158 - accuracy: 0.9536\n",
      "Epoch 49/100\n",
      "151/151 [==============================] - 0s 563us/step - loss: 0.1168 - accuracy: 0.9529\n",
      "Epoch 50/100\n",
      "151/151 [==============================] - 0s 570us/step - loss: 0.1139 - accuracy: 0.9542\n",
      "Epoch 51/100\n",
      "151/151 [==============================] - 0s 563us/step - loss: 0.1119 - accuracy: 0.9542\n",
      "Epoch 52/100\n",
      "151/151 [==============================] - 0s 590us/step - loss: 0.1111 - accuracy: 0.9576\n",
      "Epoch 53/100\n",
      "151/151 [==============================] - 0s 588us/step - loss: 0.1134 - accuracy: 0.9529\n",
      "Epoch 54/100\n",
      "151/151 [==============================] - 0s 596us/step - loss: 0.1097 - accuracy: 0.9589\n",
      "Epoch 55/100\n",
      "151/151 [==============================] - 0s 603us/step - loss: 0.1112 - accuracy: 0.9569\n",
      "Epoch 56/100\n",
      "151/151 [==============================] - 0s 563us/step - loss: 0.1075 - accuracy: 0.9576\n",
      "Epoch 57/100\n",
      "151/151 [==============================] - 0s 550us/step - loss: 0.1057 - accuracy: 0.9576\n",
      "Epoch 58/100\n",
      "151/151 [==============================] - 0s 563us/step - loss: 0.1070 - accuracy: 0.9569\n",
      "Epoch 59/100\n",
      "151/151 [==============================] - 0s 557us/step - loss: 0.1049 - accuracy: 0.9576\n",
      "Epoch 60/100\n",
      "151/151 [==============================] - 0s 570us/step - loss: 0.1033 - accuracy: 0.9602\n",
      "Epoch 61/100\n",
      "151/151 [==============================] - 0s 563us/step - loss: 0.1051 - accuracy: 0.9542\n",
      "Epoch 62/100\n",
      "151/151 [==============================] - 0s 563us/step - loss: 0.1038 - accuracy: 0.9576\n",
      "Epoch 63/100\n",
      "151/151 [==============================] - 0s 556us/step - loss: 0.1021 - accuracy: 0.9569\n",
      "Epoch 64/100\n",
      "151/151 [==============================] - 0s 570us/step - loss: 0.1000 - accuracy: 0.9595\n",
      "Epoch 65/100\n",
      "151/151 [==============================] - 0s 583us/step - loss: 0.1032 - accuracy: 0.9602\n",
      "Epoch 66/100\n",
      "151/151 [==============================] - 0s 570us/step - loss: 0.1001 - accuracy: 0.9609\n",
      "Epoch 67/100\n",
      "151/151 [==============================] - 0s 563us/step - loss: 0.0987 - accuracy: 0.9602\n",
      "Epoch 68/100\n",
      "151/151 [==============================] - 0s 576us/step - loss: 0.0981 - accuracy: 0.9629\n",
      "Epoch 69/100\n",
      "151/151 [==============================] - 0s 609us/step - loss: 0.0989 - accuracy: 0.9576\n",
      "Epoch 70/100\n",
      "151/151 [==============================] - 0s 609us/step - loss: 0.0948 - accuracy: 0.9582\n",
      "Epoch 71/100\n",
      "151/151 [==============================] - 0s 609us/step - loss: 0.0967 - accuracy: 0.9615\n",
      "Epoch 72/100\n",
      "151/151 [==============================] - 0s 590us/step - loss: 0.0939 - accuracy: 0.9615\n",
      "Epoch 73/100\n",
      "151/151 [==============================] - 0s 563us/step - loss: 0.0917 - accuracy: 0.9609\n",
      "Epoch 74/100\n",
      "151/151 [==============================] - 0s 563us/step - loss: 0.0925 - accuracy: 0.9609\n",
      "Epoch 75/100\n",
      "151/151 [==============================] - 0s 561us/step - loss: 0.0967 - accuracy: 0.9609\n",
      "Epoch 76/100\n",
      "151/151 [==============================] - 0s 583us/step - loss: 0.0920 - accuracy: 0.9642\n",
      "Epoch 77/100\n",
      "151/151 [==============================] - 0s 576us/step - loss: 0.0906 - accuracy: 0.9635\n",
      "Epoch 78/100\n",
      "151/151 [==============================] - 0s 565us/step - loss: 0.0877 - accuracy: 0.9642\n",
      "Epoch 79/100\n",
      "151/151 [==============================] - 0s 556us/step - loss: 0.0906 - accuracy: 0.9622\n",
      "Epoch 80/100\n",
      "151/151 [==============================] - 0s 576us/step - loss: 0.0938 - accuracy: 0.9622\n",
      "Epoch 81/100\n",
      "151/151 [==============================] - 0s 601us/step - loss: 0.0891 - accuracy: 0.9629\n",
      "Epoch 82/100\n",
      "151/151 [==============================] - 0s 596us/step - loss: 0.0872 - accuracy: 0.9649\n",
      "Epoch 83/100\n",
      "151/151 [==============================] - 0s 563us/step - loss: 0.0887 - accuracy: 0.9615\n",
      "Epoch 84/100\n",
      "151/151 [==============================] - 0s 563us/step - loss: 0.0871 - accuracy: 0.9635\n",
      "Epoch 85/100\n",
      "151/151 [==============================] - 0s 556us/step - loss: 0.0850 - accuracy: 0.9682\n",
      "Epoch 86/100\n",
      "151/151 [==============================] - 0s 556us/step - loss: 0.0832 - accuracy: 0.9649\n",
      "Epoch 87/100\n",
      "151/151 [==============================] - 0s 576us/step - loss: 0.0851 - accuracy: 0.9649\n",
      "Epoch 88/100\n",
      "151/151 [==============================] - 0s 576us/step - loss: 0.0882 - accuracy: 0.9662\n",
      "Epoch 89/100\n",
      "151/151 [==============================] - 0s 576us/step - loss: 0.0829 - accuracy: 0.9622\n",
      "Epoch 90/100\n",
      "151/151 [==============================] - 0s 563us/step - loss: 0.0818 - accuracy: 0.9622\n",
      "Epoch 91/100\n",
      "151/151 [==============================] - 0s 555us/step - loss: 0.0872 - accuracy: 0.9649\n",
      "Epoch 92/100\n",
      "151/151 [==============================] - 0s 570us/step - loss: 0.0787 - accuracy: 0.9649\n",
      "Epoch 93/100\n",
      "151/151 [==============================] - 0s 563us/step - loss: 0.0848 - accuracy: 0.9655\n",
      "Epoch 94/100\n",
      "151/151 [==============================] - 0s 570us/step - loss: 0.0805 - accuracy: 0.9642\n",
      "Epoch 95/100\n",
      "151/151 [==============================] - 0s 563us/step - loss: 0.0844 - accuracy: 0.9662\n",
      "Epoch 96/100\n",
      "151/151 [==============================] - 0s 570us/step - loss: 0.0793 - accuracy: 0.9635\n",
      "Epoch 97/100\n",
      "151/151 [==============================] - 0s 583us/step - loss: 0.0788 - accuracy: 0.9635\n",
      "Epoch 98/100\n",
      "151/151 [==============================] - 0s 588us/step - loss: 0.0768 - accuracy: 0.9649\n",
      "Epoch 99/100\n",
      "151/151 [==============================] - 0s 596us/step - loss: 0.0742 - accuracy: 0.9688\n",
      "Epoch 100/100\n",
      "151/151 [==============================] - 0s 583us/step - loss: 0.0765 - accuracy: 0.9642\n"
     ]
    }
   ],
   "source": [
    "history = model.fit(X_train, y_train[:,1], epochs = 100, batch_size = 10)\n"
   ]
  },
  {
   "cell_type": "code",
   "execution_count": 7,
   "metadata": {
    "scrolled": false
   },
   "outputs": [
    {
     "ename": "KeyError",
     "evalue": "'val_loss'",
     "output_type": "error",
     "traceback": [
      "\u001b[1;31m---------------------------------------------------------------------------\u001b[0m",
      "\u001b[1;31mKeyError\u001b[0m                                  Traceback (most recent call last)",
      "\u001b[1;32m<ipython-input-7-daa30061ec04>\u001b[0m in \u001b[0;36m<module>\u001b[1;34m\u001b[0m\n\u001b[0;32m      3\u001b[0m \u001b[0mplt\u001b[0m\u001b[1;33m.\u001b[0m\u001b[0mfigure\u001b[0m\u001b[1;33m(\u001b[0m\u001b[0mfigsize\u001b[0m\u001b[1;33m=\u001b[0m\u001b[1;33m[\u001b[0m\u001b[1;36m8\u001b[0m\u001b[1;33m,\u001b[0m\u001b[1;36m6\u001b[0m\u001b[1;33m]\u001b[0m\u001b[1;33m)\u001b[0m\u001b[1;33m\u001b[0m\u001b[1;33m\u001b[0m\u001b[0m\n\u001b[0;32m      4\u001b[0m \u001b[0mplt\u001b[0m\u001b[1;33m.\u001b[0m\u001b[0mplot\u001b[0m\u001b[1;33m(\u001b[0m\u001b[0mhistory\u001b[0m\u001b[1;33m.\u001b[0m\u001b[0mhistory\u001b[0m\u001b[1;33m[\u001b[0m\u001b[1;34m'loss'\u001b[0m\u001b[1;33m]\u001b[0m\u001b[1;33m,\u001b[0m\u001b[1;33m)\u001b[0m\u001b[1;33m\u001b[0m\u001b[1;33m\u001b[0m\u001b[0m\n\u001b[1;32m----> 5\u001b[1;33m \u001b[0mplt\u001b[0m\u001b[1;33m.\u001b[0m\u001b[0mplot\u001b[0m\u001b[1;33m(\u001b[0m\u001b[0mhistory\u001b[0m\u001b[1;33m.\u001b[0m\u001b[0mhistory\u001b[0m\u001b[1;33m[\u001b[0m\u001b[1;34m'val_loss'\u001b[0m\u001b[1;33m]\u001b[0m\u001b[1;33m)\u001b[0m\u001b[1;33m\u001b[0m\u001b[1;33m\u001b[0m\u001b[0m\n\u001b[0m\u001b[0;32m      6\u001b[0m \u001b[0mplt\u001b[0m\u001b[1;33m.\u001b[0m\u001b[0mlegend\u001b[0m\u001b[1;33m(\u001b[0m\u001b[1;33m[\u001b[0m\u001b[1;34m'Training loss'\u001b[0m\u001b[1;33m,\u001b[0m \u001b[1;34m'Validation Loss'\u001b[0m\u001b[1;33m]\u001b[0m\u001b[1;33m,\u001b[0m\u001b[0mfontsize\u001b[0m\u001b[1;33m=\u001b[0m\u001b[1;36m18\u001b[0m\u001b[1;33m)\u001b[0m\u001b[1;33m\u001b[0m\u001b[1;33m\u001b[0m\u001b[0m\n\u001b[0;32m      7\u001b[0m \u001b[0mplt\u001b[0m\u001b[1;33m.\u001b[0m\u001b[0mxlabel\u001b[0m\u001b[1;33m(\u001b[0m\u001b[1;34m'Epochs '\u001b[0m\u001b[1;33m,\u001b[0m\u001b[0mfontsize\u001b[0m\u001b[1;33m=\u001b[0m\u001b[1;36m16\u001b[0m\u001b[1;33m)\u001b[0m\u001b[1;33m\u001b[0m\u001b[1;33m\u001b[0m\u001b[0m\n",
      "\u001b[1;31mKeyError\u001b[0m: 'val_loss'"
     ]
    },
    {
     "data": {
      "image/png": "[encoded data removed]",
      "text/plain": [
       "<Figure size 576x432 with 1 Axes>"
      ]
     },
     "metadata": {
      "needs_background": "light"
     },
     "output_type": "display_data"
    }
   ],
   "source": [
    "from matplotlib import pyplot as plt\n",
    "\n",
    "plt.figure(figsize=[8,6])\n",
    "plt.plot(history.history['loss'],)\n",
    "plt.plot(history.history['val_loss'])\n",
    "plt.legend(['Training loss', 'Validation Loss'],fontsize=18)\n",
    "plt.xlabel('Epochs ',fontsize=16)\n",
    "plt.ylabel('Loss',fontsize=16)\n",
    "plt.title('Loss Curves',fontsize=16)"
   ]
  },
  {
   "cell_type": "code",
   "execution_count": 8,
   "metadata": {
    "scrolled": false
   },
   "outputs": [
    {
     "ename": "KeyError",
     "evalue": "'val_accuracy'",
     "output_type": "error",
     "traceback": [
      "\u001b[1;31m---------------------------------------------------------------------------\u001b[0m",
      "\u001b[1;31mKeyError\u001b[0m                                  Traceback (most recent call last)",
      "\u001b[1;32m<ipython-input-8-14f96cfe36ea>\u001b[0m in \u001b[0;36m<module>\u001b[1;34m\u001b[0m\n\u001b[0;32m      1\u001b[0m \u001b[0mplt\u001b[0m\u001b[1;33m.\u001b[0m\u001b[0mfigure\u001b[0m\u001b[1;33m(\u001b[0m\u001b[0mfigsize\u001b[0m\u001b[1;33m=\u001b[0m\u001b[1;33m[\u001b[0m\u001b[1;36m8\u001b[0m\u001b[1;33m,\u001b[0m\u001b[1;36m6\u001b[0m\u001b[1;33m]\u001b[0m\u001b[1;33m)\u001b[0m\u001b[1;33m\u001b[0m\u001b[1;33m\u001b[0m\u001b[0m\n\u001b[0;32m      2\u001b[0m \u001b[0mplt\u001b[0m\u001b[1;33m.\u001b[0m\u001b[0mplot\u001b[0m\u001b[1;33m(\u001b[0m\u001b[0mhistory\u001b[0m\u001b[1;33m.\u001b[0m\u001b[0mhistory\u001b[0m\u001b[1;33m[\u001b[0m\u001b[1;34m'accuracy'\u001b[0m\u001b[1;33m]\u001b[0m\u001b[1;33m)\u001b[0m\u001b[1;33m\u001b[0m\u001b[1;33m\u001b[0m\u001b[0m\n\u001b[1;32m----> 3\u001b[1;33m \u001b[0mplt\u001b[0m\u001b[1;33m.\u001b[0m\u001b[0mplot\u001b[0m\u001b[1;33m(\u001b[0m\u001b[0mhistory\u001b[0m\u001b[1;33m.\u001b[0m\u001b[0mhistory\u001b[0m\u001b[1;33m[\u001b[0m\u001b[1;34m'val_accuracy'\u001b[0m\u001b[1;33m]\u001b[0m\u001b[1;33m)\u001b[0m\u001b[1;33m\u001b[0m\u001b[1;33m\u001b[0m\u001b[0m\n\u001b[0m\u001b[0;32m      4\u001b[0m \u001b[0mplt\u001b[0m\u001b[1;33m.\u001b[0m\u001b[0mlegend\u001b[0m\u001b[1;33m(\u001b[0m\u001b[1;33m[\u001b[0m\u001b[1;34m'Training Accuracy'\u001b[0m\u001b[1;33m,\u001b[0m \u001b[1;34m'Validation Accuracy'\u001b[0m\u001b[1;33m]\u001b[0m\u001b[1;33m,\u001b[0m\u001b[0mfontsize\u001b[0m\u001b[1;33m=\u001b[0m\u001b[1;36m18\u001b[0m\u001b[1;33m)\u001b[0m\u001b[1;33m\u001b[0m\u001b[1;33m\u001b[0m\u001b[0m\n\u001b[0;32m      5\u001b[0m \u001b[0mplt\u001b[0m\u001b[1;33m.\u001b[0m\u001b[0mxlabel\u001b[0m\u001b[1;33m(\u001b[0m\u001b[1;34m'Epochs '\u001b[0m\u001b[1;33m,\u001b[0m\u001b[0mfontsize\u001b[0m\u001b[1;33m=\u001b[0m\u001b[1;36m16\u001b[0m\u001b[1;33m)\u001b[0m\u001b[1;33m\u001b[0m\u001b[1;33m\u001b[0m\u001b[0m\n",
      "\u001b[1;31mKeyError\u001b[0m: 'val_accuracy'"
     ]
    },
    {
     "data": {
      "image/png": "[encoded data removed]",
      "text/plain": [
       "<Figure size 576x432 with 1 Axes>"
      ]
     },
     "metadata": {
      "needs_background": "light"
     },
     "output_type": "display_data"
    }
   ],
   "source": [
    "plt.figure(figsize=[8,6])\n",
    "plt.plot(history.history['accuracy'])\n",
    "plt.plot(history.history['val_accuracy'])\n",
    "plt.legend(['Training Accuracy', 'Validation Accuracy'],fontsize=18)\n",
    "plt.xlabel('Epochs ',fontsize=16)\n",
    "plt.ylabel('Accuracy',fontsize=16)\n",
    "plt.title('Accuracy Curves',fontsize=16)"
   ]
  },
  {
   "cell_type": "code",
   "execution_count": null,
   "metadata": {},
   "outputs": [],
   "source": []
  }
 ],
 "metadata": {
  "deepnote_execution_queue": [],
  "deepnote_notebook_id": "11857701-b7d4-40e6-afaf-e988bb8e3f3d",
  "kernelspec": {
   "display_name": "Python 3",
   "language": "python",
   "name": "python3"
  },
  "language_info": {
   "codemirror_mode": {
    "name": "ipython",
    "version": 3
   },
   "file_extension": ".py",
   "mimetype": "text/x-python",
   "name": "python",
   "nbconvert_exporter": "python",
   "pygments_lexer": "ipython3",
   "version": "3.8.3"
  }
 },
 "nbformat": 4,
 "nbformat_minor": 2
}
